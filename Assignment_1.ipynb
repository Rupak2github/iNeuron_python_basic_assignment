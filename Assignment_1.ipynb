{
 "cells": [
  {
   "cell_type": "markdown",
   "id": "59032bb3",
   "metadata": {},
   "source": [
    "# 1. In the below elements which of them are values or an expression? eg:- values can be integer or string and expressions will be mathematical operators.\n",
    "* \n",
    "'hello'\n",
    "-87.8\n",
    "- \n",
    "/ \n",
    "+\t\n",
    "6 \n"
   ]
  },
  {
   "cell_type": "raw",
   "id": "5221f6cb",
   "metadata": {},
   "source": [
    "*,-,/,+ these are expressions (mathemetical operators)\n",
    "'hello',-87.8,6 these are values\n"
   ]
  },
  {
   "cell_type": "markdown",
   "id": "05e59e8c",
   "metadata": {},
   "source": [
    "# 2. What is the difference between string and variable?"
   ]
  },
  {
   "cell_type": "raw",
   "id": "a9b92b36",
   "metadata": {},
   "source": [
    "A string is a literal text string, i.e. 'Hello'.A variable is something that stores data (per se) - it can store a string, int, float, class, etc. Danltn, Dec 28, 2008."
   ]
  },
  {
   "cell_type": "markdown",
   "id": "053dd28f",
   "metadata": {},
   "source": [
    "# 3. Describe three different data types."
   ]
  },
  {
   "cell_type": "raw",
   "id": "1887bc71",
   "metadata": {},
   "source": [
    "Integer : Stores integer values\n",
    "character : to store string values\n",
    "Boolean : to store boolean or logical values"
   ]
  },
  {
   "cell_type": "markdown",
   "id": "d923dbdc",
   "metadata": {},
   "source": [
    "# 4. What is an expression made up of? What do all expressions do?"
   ]
  },
  {
   "cell_type": "raw",
   "id": "e92b12bf",
   "metadata": {},
   "source": [
    "An expression is a combination of values and operators. All expressions evaluate (reduce to a single value)"
   ]
  },
  {
   "cell_type": "markdown",
   "id": "8fe448d4",
   "metadata": {},
   "source": [
    "# 5. This assignment statements, like spam = 10. What is the difference between an expression and a statement?"
   ]
  },
  {
   "cell_type": "raw",
   "id": "3493e246",
   "metadata": {},
   "source": [
    "Expressions evaluate reduces to single value, statements do not."
   ]
  },
  {
   "cell_type": "markdown",
   "id": "0fd86a24",
   "metadata": {},
   "source": [
    "# 6. After running the following code, what does the variable bacon contain?\n",
    "bacon = 22\n",
    "bacon + 1\n"
   ]
  },
  {
   "cell_type": "code",
   "execution_count": 2,
   "id": "3c9a6236",
   "metadata": {},
   "outputs": [
    {
     "name": "stdout",
     "output_type": "stream",
     "text": [
      "c =  23\n",
      "bacon =  22\n"
     ]
    }
   ],
   "source": [
    "bacon = 22\n",
    "c = bacon + 1\n",
    "print('c = ',c)\n",
    "print('bacon = ',bacon)"
   ]
  },
  {
   "cell_type": "markdown",
   "id": "d622b8ae",
   "metadata": {},
   "source": [
    "# 7. What should the values of the following two terms be?\n",
    "'spam' + 'spamspam'\n",
    "'spam' * 3\n"
   ]
  },
  {
   "cell_type": "code",
   "execution_count": 3,
   "id": "4d6c988c",
   "metadata": {},
   "outputs": [
    {
     "data": {
      "text/plain": [
       "'spamspamspam'"
      ]
     },
     "execution_count": 3,
     "metadata": {},
     "output_type": "execute_result"
    }
   ],
   "source": [
    "'spam' + 'spamspam' \n",
    "'spam' * 3"
   ]
  },
  {
   "cell_type": "markdown",
   "id": "1e137e58",
   "metadata": {},
   "source": [
    "# 8. Why is eggs a valid variable name while 100 is invalid?"
   ]
  },
  {
   "cell_type": "code",
   "execution_count": 4,
   "id": "6c71a86b",
   "metadata": {},
   "outputs": [
    {
     "data": {
      "text/plain": [
       "10"
      ]
     },
     "execution_count": 4,
     "metadata": {},
     "output_type": "execute_result"
    }
   ],
   "source": [
    "eggs = 10\n",
    "eggs"
   ]
  },
  {
   "cell_type": "code",
   "execution_count": 5,
   "id": "f51b675d",
   "metadata": {},
   "outputs": [
    {
     "ename": "SyntaxError",
     "evalue": "cannot assign to literal (Temp/ipykernel_5588/1715640892.py, line 1)",
     "output_type": "error",
     "traceback": [
      "\u001b[1;36m  File \u001b[1;32m\"C:\\Users\\rupak\\AppData\\Local\\Temp/ipykernel_5588/1715640892.py\"\u001b[1;36m, line \u001b[1;32m1\u001b[0m\n\u001b[1;33m    100 = \"hundres\"\u001b[0m\n\u001b[1;37m    ^\u001b[0m\n\u001b[1;31mSyntaxError\u001b[0m\u001b[1;31m:\u001b[0m cannot assign to literal\n"
     ]
    }
   ],
   "source": [
    "100 = \"hundres\"\n",
    "100"
   ]
  },
  {
   "cell_type": "markdown",
   "id": "6f0006c3",
   "metadata": {},
   "source": [
    "# 9. What three functions can be used to get the integer, floating-point number, or string version of a value?"
   ]
  },
  {
   "cell_type": "raw",
   "id": "ec11d666",
   "metadata": {},
   "source": [
    "int(),float(),str()"
   ]
  },
  {
   "cell_type": "raw",
   "id": "c8d3fc85",
   "metadata": {},
   "source": [
    "- int()\n",
    "- float()\n",
    "- str()  will convert the values to integer, float or string versions of the values passed to them"
   ]
  },
  {
   "cell_type": "markdown",
   "id": "474897fb",
   "metadata": {},
   "source": [
    "# 10. Why does this expression cause an error? How can you fix it? 'I have eaten ' + 99 + ' burritos.'"
   ]
  },
  {
   "cell_type": "code",
   "execution_count": 6,
   "id": "a02c93a3",
   "metadata": {},
   "outputs": [
    {
     "ename": "TypeError",
     "evalue": "can only concatenate str (not \"int\") to str",
     "output_type": "error",
     "traceback": [
      "\u001b[1;31m---------------------------------------------------------------------------\u001b[0m",
      "\u001b[1;31mTypeError\u001b[0m                                 Traceback (most recent call last)",
      "\u001b[1;32m~\\AppData\\Local\\Temp/ipykernel_5588/552865289.py\u001b[0m in \u001b[0;36m<module>\u001b[1;34m\u001b[0m\n\u001b[1;32m----> 1\u001b[1;33m \u001b[1;34m'i have eaten'\u001b[0m \u001b[1;33m+\u001b[0m \u001b[1;36m99\u001b[0m \u001b[1;33m+\u001b[0m \u001b[1;34m'burritos'\u001b[0m\u001b[1;33m\u001b[0m\u001b[1;33m\u001b[0m\u001b[0m\n\u001b[0m",
      "\u001b[1;31mTypeError\u001b[0m: can only concatenate str (not \"int\") to str"
     ]
    }
   ],
   "source": [
    "'i have eaten' + 99 + 'burritos'"
   ]
  },
  {
   "cell_type": "code",
   "execution_count": 9,
   "id": "b6914adf",
   "metadata": {},
   "outputs": [
    {
     "data": {
      "text/plain": [
       "'i have eaten 99 burritos'"
      ]
     },
     "execution_count": 9,
     "metadata": {},
     "output_type": "execute_result"
    }
   ],
   "source": [
    "'i have eaten ' + str(99) + ' burritos'"
   ]
  },
  {
   "cell_type": "code",
   "execution_count": null,
   "id": "18b12866",
   "metadata": {},
   "outputs": [],
   "source": []
  }
 ],
 "metadata": {
  "kernelspec": {
   "display_name": "Python 3 (ipykernel)",
   "language": "python",
   "name": "python3"
  },
  "language_info": {
   "codemirror_mode": {
    "name": "ipython",
    "version": 3
   },
   "file_extension": ".py",
   "mimetype": "text/x-python",
   "name": "python",
   "nbconvert_exporter": "python",
   "pygments_lexer": "ipython3",
   "version": "3.9.7"
  }
 },
 "nbformat": 4,
 "nbformat_minor": 5
}
