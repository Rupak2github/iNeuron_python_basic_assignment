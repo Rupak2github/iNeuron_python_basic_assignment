{
 "cells": [
  {
   "cell_type": "raw",
   "id": "e6d133ea",
   "metadata": {},
   "source": [
    "1. In the below elements which of them are values or an expression? eg:- values can be integer or string and expressions will be mathematical operators.\n",
    "* \n",
    "'hello'\n",
    "-87.8\n",
    "- \n",
    "/ \n",
    "+\t\n",
    "6 \n"
   ]
  },
  {
   "cell_type": "raw",
   "id": "5221f6cb",
   "metadata": {},
   "source": [
    "*,-,/,+ these are expressions (mathemetical operators)\n",
    "'hello',-87.8,6 these are values\n"
   ]
  },
  {
   "cell_type": "raw",
   "id": "3872ff52",
   "metadata": {},
   "source": [
    "2. What is the difference between string and variable?"
   ]
  },
  {
   "cell_type": "raw",
   "id": "a9b92b36",
   "metadata": {},
   "source": [
    "A string is a literal text string, i.e. 'Hello'.A variable is something that stores data (per se) - it can store a string, int, float, class, etc. Danltn, Dec 28, 2008."
   ]
  },
  {
   "cell_type": "raw",
   "id": "a3790b9e",
   "metadata": {},
   "source": [
    "3. Describe three different data types."
   ]
  },
  {
   "cell_type": "raw",
   "id": "1887bc71",
   "metadata": {},
   "source": [
    "Integer : Stores integer values\n",
    "character : to store string values\n",
    "Boolean : to store boolean or logical values"
   ]
  },
  {
   "cell_type": "raw",
   "id": "04d0e6cc",
   "metadata": {},
   "source": [
    "4. What is an expression made up of? What do all expressions do?"
   ]
  },
  {
   "cell_type": "raw",
   "id": "e92b12bf",
   "metadata": {},
   "source": [
    "An expression is a combination of values and operators. All expressions evaluate (reduce to a single value)"
   ]
  },
  {
   "cell_type": "raw",
   "id": "94edf75a",
   "metadata": {},
   "source": [
    "5. This assignment statements, like spam = 10. What is the difference between an expression and a statement?"
   ]
  },
  {
   "cell_type": "raw",
   "id": "3493e246",
   "metadata": {},
   "source": [
    "Expressions evaluate reduces to single value, statements do not."
   ]
  },
  {
   "cell_type": "raw",
   "id": "5dedd8a2",
   "metadata": {},
   "source": [
    "6. After running the following code, what does the variable bacon contain?\n",
    "bacon = 22\n",
    "bacon + 1\n"
   ]
  },
  {
   "cell_type": "raw",
   "id": "87e5a531",
   "metadata": {},
   "source": [
    "The bacon variable is set to 20. The bacon + 1 expression does not reassign the value in bacon (that would need an assignment statement: bacon = bacon + 1)"
   ]
  },
  {
   "cell_type": "raw",
   "id": "edbbf332",
   "metadata": {},
   "source": [
    "7. What should the values of the following two terms be?\n",
    "'spam' + 'spamspam'\n",
    "'spam' * 3\n"
   ]
  },
  {
   "cell_type": "raw",
   "id": "ca115763",
   "metadata": {},
   "source": [
    "'spamspamspam'"
   ]
  },
  {
   "cell_type": "raw",
   "id": "48147297",
   "metadata": {},
   "source": [
    "8. Why is eggs a valid variable name while 100 is invalid?"
   ]
  },
  {
   "cell_type": "raw",
   "id": "2ecc11eb",
   "metadata": {},
   "source": [
    "variable name cannot begin with number"
   ]
  },
  {
   "cell_type": "raw",
   "id": "50ae94df",
   "metadata": {},
   "source": [
    "9. What three functions can be used to get the integer, floating-point number, or string version of a value?"
   ]
  },
  {
   "cell_type": "raw",
   "id": "ec11d666",
   "metadata": {},
   "source": [
    "int(),float(),str()"
   ]
  },
  {
   "cell_type": "raw",
   "id": "c8d3fc85",
   "metadata": {},
   "source": [
    "The expression causes an error because 99 is an integer, and only strings can be concatenated to other strings with the + operator. The correct way is I have eaten ' + str(99) + ' burritos.'."
   ]
  },
  {
   "cell_type": "code",
   "execution_count": null,
   "id": "66ed83ee",
   "metadata": {},
   "outputs": [],
   "source": []
  }
 ],
 "metadata": {
  "kernelspec": {
   "display_name": "Python 3",
   "language": "python",
   "name": "python3"
  },
  "language_info": {
   "codemirror_mode": {
    "name": "ipython",
    "version": 3
   },
   "file_extension": ".py",
   "mimetype": "text/x-python",
   "name": "python",
   "nbconvert_exporter": "python",
   "pygments_lexer": "ipython3",
   "version": "3.6.13"
  }
 },
 "nbformat": 4,
 "nbformat_minor": 5
}
